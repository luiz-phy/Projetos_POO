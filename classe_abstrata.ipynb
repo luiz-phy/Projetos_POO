{
 "cells": [
  {
   "cell_type": "code",
   "execution_count": 5,
   "metadata": {},
   "outputs": [],
   "source": [
    "from abc import ABC, abstractmethod, abstractproperty"
   ]
  },
  {
   "cell_type": "code",
   "execution_count": 6,
   "metadata": {},
   "outputs": [],
   "source": [
    "class ControleRemoto(ABC):\n",
    "    @abstractmethod\n",
    "    def ligar(self):\n",
    "        pass\n",
    "\n",
    "    @abstractmethod\n",
    "    def desligar(self):\n",
    "        pass\n",
    "\n",
    "    @property\n",
    "    @abstractproperty\n",
    "    def marca(self):\n",
    "        pass"
   ]
  },
  {
   "cell_type": "code",
   "execution_count": 7,
   "metadata": {},
   "outputs": [],
   "source": [
    "class ControleTV(ControleRemoto):\n",
    "    def ligar(self):\n",
    "        print(\"Ligando a TV...\")\n",
    "        print(\"Ligada!\")\n",
    "\n",
    "    def desligar(self):\n",
    "        print(\"Desligando a TV...\")\n",
    "        print(\"Desligada!\")\n",
    "\n",
    "    @property\n",
    "    def marca(self):\n",
    "        return \"Philco\""
   ]
  },
  {
   "cell_type": "code",
   "execution_count": 8,
   "metadata": {},
   "outputs": [],
   "source": [
    "class ControleArCondicionado(ControleRemoto):\n",
    "    def ligar(self):\n",
    "        print(\"Ligando o Ar Condicionado...\")\n",
    "        print(\"Ligado!\")\n",
    "\n",
    "    def desligar(self):\n",
    "        print(\"Desligando o Ar Condicionado...\")\n",
    "        print(\"Desligado!\")\n",
    "\n",
    "    @property\n",
    "    def marca(self):\n",
    "        return \"LG\""
   ]
  },
  {
   "cell_type": "code",
   "execution_count": 11,
   "metadata": {},
   "outputs": [
    {
     "name": "stdout",
     "output_type": "stream",
     "text": [
      "Ligando a TV...\n",
      "Ligada!\n",
      "Desligando a TV...\n",
      "Desligada!\n",
      "Philco\n"
     ]
    }
   ],
   "source": [
    "controle = ControleTV()\n",
    "controle.ligar()\n",
    "controle.desligar()\n",
    "print(controle.marca)\n"
   ]
  },
  {
   "cell_type": "code",
   "execution_count": 10,
   "metadata": {},
   "outputs": [
    {
     "name": "stdout",
     "output_type": "stream",
     "text": [
      "Ligando o Ar Condicionado...\n",
      "Ligado!\n",
      "Desligando o Ar Condicionado...\n",
      "Desligado!\n",
      "LG\n"
     ]
    }
   ],
   "source": [
    "controle = ControleArCondicionado()\n",
    "controle.ligar()\n",
    "controle.desligar()\n",
    "print(controle.marca)"
   ]
  },
  {
   "cell_type": "code",
   "execution_count": null,
   "metadata": {},
   "outputs": [],
   "source": []
  },
  {
   "cell_type": "code",
   "execution_count": null,
   "metadata": {},
   "outputs": [],
   "source": []
  },
  {
   "cell_type": "code",
   "execution_count": null,
   "metadata": {},
   "outputs": [],
   "source": []
  },
  {
   "cell_type": "code",
   "execution_count": null,
   "metadata": {},
   "outputs": [],
   "source": []
  }
 ],
 "metadata": {
  "kernelspec": {
   "display_name": "Python 3.9.7 64-bit",
   "language": "python",
   "name": "python3"
  },
  "language_info": {
   "codemirror_mode": {
    "name": "ipython",
    "version": 3
   },
   "file_extension": ".py",
   "mimetype": "text/x-python",
   "name": "python",
   "nbconvert_exporter": "python",
   "pygments_lexer": "ipython3",
   "version": "3.9.7"
  },
  "orig_nbformat": 4,
  "vscode": {
   "interpreter": {
    "hash": "04e70b009ea9c6705b60913a71db2a1e69445858154ebae5e6362012c5cca011"
   }
  }
 },
 "nbformat": 4,
 "nbformat_minor": 2
}
