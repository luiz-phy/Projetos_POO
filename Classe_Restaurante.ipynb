{
 "cells": [
  {
   "cell_type": "code",
   "execution_count": null,
   "metadata": {},
   "outputs": [],
   "source": [
    "class Restaurant:\n",
    "    def __init__(self, restaurant_name, cuisine_type):\n",
    "        \"\"\"Initialize Attributes.\"\"\"\n",
    "        self.restaurant_name = restaurant_name\n",
    "        self.cuisine_type = cuisine_type\n",
    "        self.number_served = 0\n",
    "\n",
    "    def describe_restaurant(self):\n",
    "        \"\"\"Describing the restaurant by its name and cuisine type\"\"\"\n",
    "        return print(f\"The restaurant's name is {self.restaurant_name} where the cuisine type is {self.cuisine_type}.\")\n",
    "\n",
    "    def open_restaurant(self):\n",
    "        print(f\"The restaurant {self.restaurant_name} is open now!\")\n",
    "    \n",
    "    def set_number_served(self, customers_served):\n",
    "        self.number_served = customers_served\n",
    "\n",
    "    def increment_number_served(self, increment):\n",
    "        self.number_served += increment\n"
   ]
  },
  {
   "cell_type": "code",
   "execution_count": null,
   "metadata": {},
   "outputs": [],
   "source": [
    "\n",
    "class IceCreamStand(Restaurant):\n",
    "    \"\"\"Represent a specific kind of Restaurant.\"\"\"\n",
    "\n",
    "    def __init__(self, restaurant_name, cuisine_type):\n",
    "        \"\"\"Initialize attributes of the Restaurant class\"\"\"\n",
    "        super().__init__(restaurant_name, cuisine_type)\n",
    "\n",
    "        self.flavors = [\"Chocolate\", \"Coffee\", \"Strawberry\", \"Pineapple\", \"Açai\", \"Vanilla\"]\n",
    "\n",
    "    def our_flavors(self):\n",
    "        return [i for i in self.flavors]\n",
    "\n",
    "    \n",
    "    def choosing_flavor(self, choice):\n",
    "        choice = choice.lower()\n",
    "        if choice in self.flavors:\n",
    "            return print(\"Here your Ice Cream!\")\n",
    "        else:\n",
    "            return print(f\"Sorry, we don't have this one!\\nOur flavors are: {IceCreamStand.our_flavors(self)}\")\n"
   ]
  },
  {
   "cell_type": "code",
   "execution_count": null,
   "metadata": {},
   "outputs": [
    {
     "name": "stdout",
     "output_type": "stream",
     "text": [
      "The restaurant's name is Ice Cube Cream where the cuisine type is Ice Cream.\n"
     ]
    },
    {
     "data": {
      "text/plain": [
       "['chocolate', 'coffee', 'strawberry', 'pineapple', 'Açai']"
      ]
     },
     "execution_count": 3,
     "metadata": {},
     "output_type": "execute_result"
    }
   ],
   "source": [
    "sorveteria = IceCreamStand(\"Ice Cube Cream\", \"Ice Cream\")\n",
    "\n",
    "sorveteria.describe_restaurant()\n",
    "sorveteria.our_flavors()"
   ]
  },
  {
   "cell_type": "code",
   "execution_count": null,
   "metadata": {},
   "outputs": [
    {
     "name": "stdout",
     "output_type": "stream",
     "text": [
      "Here your Ice Cream!\n"
     ]
    }
   ],
   "source": [
    "sorveteria.choosing_flavor(\"Chocolate\")"
   ]
  },
  {
   "cell_type": "code",
   "execution_count": null,
   "metadata": {},
   "outputs": [
    {
     "name": "stdout",
     "output_type": "stream",
     "text": [
      "Sorry, we don't have this one!\n",
      "Our flavors are: ['chocolate', 'coffee', 'strawberry', 'pineapple', 'Açai']\n"
     ]
    }
   ],
   "source": [
    "sorveteria.choosing_flavor(\"Coconut\")"
   ]
  }
 ],
 "metadata": {
  "kernelspec": {
   "display_name": "Python 3.9.7 64-bit",
   "language": "python",
   "name": "python3"
  },
  "language_info": {
   "codemirror_mode": {
    "name": "ipython",
    "version": 3
   },
   "file_extension": ".py",
   "mimetype": "text/x-python",
   "name": "python",
   "nbconvert_exporter": "python",
   "pygments_lexer": "ipython3",
   "version": "3.9.7"
  },
  "orig_nbformat": 4,
  "vscode": {
   "interpreter": {
    "hash": "04e70b009ea9c6705b60913a71db2a1e69445858154ebae5e6362012c5cca011"
   }
  }
 },
 "nbformat": 4,
 "nbformat_minor": 2
}
